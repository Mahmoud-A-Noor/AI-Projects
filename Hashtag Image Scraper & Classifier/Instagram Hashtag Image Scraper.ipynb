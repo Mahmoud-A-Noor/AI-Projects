{
  "cells": [
    {
      "cell_type": "code",
      "execution_count": null,
      "id": "7978fc7e",
      "metadata": {},
      "outputs": [],
      "source": [
        "! pip install selenium"
      ]
    },
    {
      "cell_type": "code",
      "execution_count": 3,
      "id": "b37be542",
      "metadata": {
        "colab": {
          "base_uri": "https://localhost:8080/"
        },
        "id": "b37be542",
        "outputId": "7c7b8fa6-21af-4e8b-9d88-e0618268775e"
      },
      "outputs": [],
      "source": [
        "import os\n",
        "import time\n",
        "\n",
        "import requests\n",
        "from selenium import webdriver\n",
        "from selenium.webdriver.common.keys import Keys\n",
        "from selenium.webdriver.common.action_chains import ActionChains as AC"
      ]
    },
    {
      "cell_type": "code",
      "execution_count": null,
      "id": "78b35816",
      "metadata": {
        "id": "78b35816"
      },
      "outputs": [],
      "source": [
        "### Get Images Links by Hashtag and download them to folder with hashtag name ###\n",
        "\n",
        "from IPython.display import clear_output\n",
        "\n",
        "def downloadImages(Hashtag, numberOfImages, Insta_Username, Insta_Password):\n",
        "    \n",
        "    driver = webdriver.Edge(\"msedgedriver.exe\")\n",
        "    driver.get(\"https://www.instagram.com\")\n",
        "\n",
        "    ### Login Section ###\n",
        "\n",
        "    time.sleep(3)\n",
        "    username_field = driver.find_element_by_xpath('//*[@id=\"loginForm\"]/div/div[1]/div/label/input')\n",
        "    username_field.send_keys(Insta_Username)\n",
        "\n",
        "    password_field = driver.find_element_by_xpath('//*[@id=\"loginForm\"]/div/div[2]/div/label/input')\n",
        "    password_field.send_keys(Insta_Password)\n",
        "    time.sleep(2)\n",
        "\n",
        "    driver.find_element_by_xpath('//*[@id=\"loginForm\"]/div/div[3]').click()\n",
        "    time.sleep(3)\n",
        "\n",
        "    ### Scraping Section ###\n",
        "    \n",
        "    counter = 0\n",
        "    Links = set()\n",
        "\n",
        "    link = \"https://www.instagram.com/explore/tags/\" + Hashtag\n",
        "    driver.get(link)\n",
        "    time.sleep(5)\n",
        "\n",
        "    if not os.path.exists(f\"dataset\"):\n",
        "      os.makedirs(f\"dataset\")\n",
        "      \n",
        "    if not os.path.exists(f\"dataset/{Hashtag}\"):\n",
        "      os.makedirs(f\"dataset/{Hashtag}\")\n",
        "\n",
        "    while counter < numberOfImages:\n",
        "        for c in range(5):\n",
        "            AC(driver).send_keys(Keys.PAGE_DOWN).perform()  # scrolls Down the page\n",
        "            time.sleep(0.2)\n",
        "        time.sleep(1) # waits for 1 seconds (some time to load data)\n",
        "        elements = driver.find_elements_by_class_name(\"FFVAD\")\n",
        "        for element in elements:\n",
        "            ### Downloading Section ###\n",
        "            link = element.get_attribute(\"src\")\n",
        "            if link not in Links:\n",
        "                Links.add(link)\n",
        "                r = requests.get(link)\n",
        "                with open(f\"dataset/{Hashtag}/{counter}.jpg\",'wb') as f:\n",
        "                    f.write(r.content)\n",
        "                counter += 1\n",
        "                if counter == numberOfImages:\n",
        "                  print(counter)\n",
        "                  break\n",
        "            print(counter) ### indicate progress ###\n",
        "        clear_output(wait=True) ### clear output ###\n",
        "    time.sleep(3)\n",
        "    driver.close()"
      ]
    },
    {
      "cell_type": "code",
      "execution_count": null,
      "id": "61c7640b",
      "metadata": {
        "id": "61c7640b"
      },
      "outputs": [],
      "source": [
        "hashtags = {\n",
        "            \"bird\":[],\n",
        "            \"cat\":[],\n",
        "            \"dog\":[],\n",
        "            }"
      ]
    },
    {
      "cell_type": "code",
      "execution_count": null,
      "id": "0aANlFZpi7Q-",
      "metadata": {
        "colab": {
          "base_uri": "https://localhost:8080/"
        },
        "id": "0aANlFZpi7Q-",
        "outputId": "5a8ed428-f6bb-4383-b683-8cdec676dac5"
      },
      "outputs": [
        {
          "name": "stdout",
          "output_type": "stream",
          "text": [
            "10000\n",
            "10000\n"
          ]
        }
      ],
      "source": [
        "### get images and Download them to their hashtag folder ###\n",
        "\n",
        "for hashtag in hashtags.keys():\n",
        "    downloadImages(Hashtag=hashtag, numberOfImages=10000, Insta_Username=\"your username\",Insta_Password=\"your password\")"
      ]
    },
    {
      "cell_type": "code",
      "execution_count": 1,
      "id": "b8f8b6a0",
      "metadata": {},
      "outputs": [],
      "source": [
        "### Note => downloaded images may contains images with wrong hashtag (Ex. cat or human images in dog hashtag) so you have to filter them manually ###"
      ]
    }
  ],
  "metadata": {
    "colab": {
      "collapsed_sections": [],
      "name": "Image Classifier_ Google Colab.ipynb",
      "provenance": []
    },
    "kernelspec": {
      "display_name": "Python 3 (ipykernel)",
      "language": "python",
      "name": "python3"
    },
    "language_info": {
      "codemirror_mode": {
        "name": "ipython",
        "version": 3
      },
      "file_extension": ".py",
      "mimetype": "text/x-python",
      "name": "python",
      "nbconvert_exporter": "python",
      "pygments_lexer": "ipython3",
      "version": "3.8.5"
    },
    "toc": {
      "base_numbering": 1,
      "nav_menu": {},
      "number_sections": true,
      "sideBar": true,
      "skip_h1_title": false,
      "title_cell": "Table of Contents",
      "title_sidebar": "Contents",
      "toc_cell": false,
      "toc_position": {},
      "toc_section_display": true,
      "toc_window_display": false
    },
    "varInspector": {
      "cols": {
        "lenName": 16,
        "lenType": 16,
        "lenVar": 40
      },
      "kernels_config": {
        "python": {
          "delete_cmd_postfix": "",
          "delete_cmd_prefix": "del ",
          "library": "var_list.py",
          "varRefreshCmd": "print(var_dic_list())"
        },
        "r": {
          "delete_cmd_postfix": ") ",
          "delete_cmd_prefix": "rm(",
          "library": "var_list.r",
          "varRefreshCmd": "cat(var_dic_list()) "
        }
      },
      "types_to_exclude": [
        "module",
        "function",
        "builtin_function_or_method",
        "instance",
        "_Feature"
      ],
      "window_display": false
    }
  },
  "nbformat": 4,
  "nbformat_minor": 5
}
