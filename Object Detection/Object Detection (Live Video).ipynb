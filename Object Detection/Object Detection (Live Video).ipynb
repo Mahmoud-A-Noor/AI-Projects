{
 "cells": [
  {
   "cell_type": "markdown",
   "metadata": {},
   "source": [
    "# Dark net (YOLO_v3)"
   ]
  },
  {
   "cell_type": "code",
   "execution_count": 1,
   "metadata": {},
   "outputs": [],
   "source": [
    "import cv2 as cv\n",
    "import numpy as np\n",
    "import matplotlib.pyplot as plt\n",
    "%matplotlib inline"
   ]
  },
  {
   "cell_type": "code",
   "execution_count": 2,
   "metadata": {},
   "outputs": [],
   "source": [
    "yolo = cv.dnn.readNetFromDarknet(\"yolov3.cfg\", \"yolov3.weights\") ### Download the weigts and config files from https://pjreddie.com/darknet/yolo/  and [ut them in the same directory]"
   ]
  },
  {
   "cell_type": "code",
   "execution_count": 3,
   "metadata": {},
   "outputs": [],
   "source": [
    "classes = []\n",
    "\n",
    "with open(\"coco.names\", \"r\") as file:\n",
    "    classes = file.read().splitlines()"
   ]
  },
  {
   "cell_type": "code",
   "execution_count": 13,
   "metadata": {},
   "outputs": [],
   "source": [
    "video = cv.VideoCapture(0);\n",
    "\n",
    "while True:\n",
    "    check, frame = video.read()\n",
    "    \n",
    "    blob = cv.dnn.blobFromImage(frame, 1 / 255, (320, 320), (0,0,0), swapRB=True, crop=False)\n",
    "    yolo.setInput(blob)\n",
    "    output_layer_names = yolo.getUnconnectedOutLayersNames()\n",
    "    layer_output = yolo.forward(output_layer_names)\n",
    "    \n",
    "    width = frame.shape[0]\n",
    "    height = frame.shape[1]\n",
    "    boxes = []\n",
    "    confidences = []\n",
    "    class_ids = []\n",
    "\n",
    "    for output in layer_output:\n",
    "        for detection in output:\n",
    "            score = detection[5:]\n",
    "            class_id = np.argmax(score)\n",
    "            confidence = score[class_id]\n",
    "            if confidence > 0.7:\n",
    "                center_x = int(detection[0] * width)\n",
    "                center_y = int(detection[0] * height)\n",
    "                \n",
    "                w = int(detection[0] * width)\n",
    "                h = int(detection[0] * height)\n",
    "                \n",
    "                x = int(center_x-w/2)\n",
    "                y = int(center_y-h/2)\n",
    "                \n",
    "                boxes.append([x,y,w,h])\n",
    "                confidences.append(float(confidence))\n",
    "                class_ids.append(class_id)\n",
    "\n",
    "    indexes = cv.dnn.NMSBoxes(boxes, confidences, 0.5, 0.4)\n",
    "    font = cv.FONT_HERSHEY_PLAIN\n",
    "    colors = np.random.uniform(0,255,size=(len(boxes),3))\n",
    "    if indexes.size > 0:\n",
    "        for i in indexes.flatten():\n",
    "            x,y,w,h = boxes[i]\n",
    "            label = str(classes[class_ids[i]])\n",
    "            conf = str(round(confidences[i],2))\n",
    "            color = colors[i]\n",
    "    \n",
    "    cv.rectangle(frame, (x,y), (x+w,y+h), color, 3)\n",
    "    cv.putText(frame, label + \" : \" + conf, (x,y), font, 1, color, 3)\n",
    "    cv.imshow(\"Live Object Detection\", frame)\n",
    "    \n",
    "\n",
    "    key = cv.waitKey(1)\n",
    "\n",
    "    if key == ord('q'):\n",
    "        break;\n",
    "\n",
    "video.release()\n",
    "cv.destroyAllWindows()"
   ]
  }
 ],
 "metadata": {
  "interpreter": {
   "hash": "e3685a0a9575299e621dea9a467c4892863948b5b0cc26b106c94f387d30f80c"
  },
  "kernelspec": {
   "display_name": "Python 3.8.5 64-bit ('base': conda)",
   "language": "python",
   "name": "python3"
  },
  "language_info": {
   "codemirror_mode": {
    "name": "ipython",
    "version": 3
   },
   "file_extension": ".py",
   "mimetype": "text/x-python",
   "name": "python",
   "nbconvert_exporter": "python",
   "pygments_lexer": "ipython3",
   "version": "3.8.5"
  },
  "orig_nbformat": 4
 },
 "nbformat": 4,
 "nbformat_minor": 2
}
