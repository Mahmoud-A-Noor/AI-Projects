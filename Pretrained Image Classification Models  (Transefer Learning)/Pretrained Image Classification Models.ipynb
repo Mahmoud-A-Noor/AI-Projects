{
 "cells": [
  {
   "cell_type": "code",
   "execution_count": 1,
   "metadata": {},
   "outputs": [],
   "source": [
    "from os import listdir\n",
    "from os.path import isfile, join"
   ]
  },
  {
   "cell_type": "code",
   "execution_count": 2,
   "metadata": {},
   "outputs": [],
   "source": [
    "classes = {\n",
    "    \"dog\": [],\n",
    "    \"cat\": [],\n",
    "}"
   ]
  },
  {
   "cell_type": "code",
   "execution_count": 3,
   "metadata": {},
   "outputs": [],
   "source": [
    "### get images paths ###\n",
    "for i in classes.keys():\n",
    "    classes[i] = [i+\"\\\\\"+f for f in listdir(f'{i}') if isfile(join(f'{i}', f))]"
   ]
  },
  {
   "cell_type": "markdown",
   "metadata": {},
   "source": [
    "## VGG16"
   ]
  },
  {
   "cell_type": "code",
   "execution_count": 4,
   "metadata": {},
   "outputs": [
    {
     "name": "stdout",
     "output_type": "stream",
     "text": [
      "dog\\201030094143-stock-rhodesian-ridgeback-super-tease.jpg =====================>> vizsla (42.59%)\n",
      "dog\\322868_1100-800x825.jpg =====================>> golden_retriever (40.98%)\n",
      "dog\\3408.jpg =====================>> pug (88.80%)\n",
      "dog\\adorable-white-pomeranian-puppy-spitz-921029690-5c8be25d46e0fb000172effe.jpg =====================>> Maltese_dog (40.96%)\n",
      "dog\\encontro_dog_institute_40130382010.jpeg =====================>> French_bulldog (67.34%)\n",
      "dog\\king-charles-spaniel-resting-head-768.jpg =====================>> Blenheim_spaniel (91.36%)\n",
      "cat\\07CAT-STRIPES-mediumSquareAt3X-v2.jpg =====================>> tiger_cat (75.68%)\n",
      "cat\\1200px-Feral_cat_Virginia_crop.jpg =====================>> tabby (41.15%)\n",
      "cat\\3683.jpg =====================>> tabby (52.96%)\n",
      "cat\\cat-toes-paw-number-paws-tiger-tabby.jpg =====================>> tabby (52.31%)\n",
      "cat\\GettyImages-1175550351.jpg =====================>> Egyptian_cat (26.51%)\n"
     ]
    }
   ],
   "source": [
    "from keras.preprocessing.image import load_img, img_to_array\n",
    "from keras.applications.vgg16 import VGG16, preprocess_input, decode_predictions\n",
    "\n",
    "# load the model\n",
    "model = VGG16()\n",
    "\n",
    "for class_ in classes.keys():\n",
    "    for img in classes[class_]:\n",
    "        # load an image from file\n",
    "        image = load_img(img, target_size=(224, 224))\n",
    "        # convert the image pixels to a numpy array\n",
    "        image = img_to_array(image)\n",
    "        # reshape data for the model\n",
    "        image = image.reshape((1, image.shape[0], image.shape[1], image.shape[2]))\n",
    "        # prepare the image for the VGG model\n",
    "        image = preprocess_input(image)\n",
    "        # predict the probability across all output classes\n",
    "        yhat = model.predict(image)\n",
    "        # convert the probabilities to class labels\n",
    "        label = decode_predictions(yhat)\n",
    "        # retrieve the most likely result, e.g. highest probability\n",
    "        label = label[0][0]\n",
    "        # print the classification\n",
    "        print(img,end=\" =====================>> \")\n",
    "        print('%s (%.2f%%)' % (label[1], label[2]*100))"
   ]
  },
  {
   "cell_type": "code",
   "execution_count": 4,
   "metadata": {},
   "outputs": [
    {
     "name": "stdout",
     "output_type": "stream",
     "text": [
      "Downloading data from https://storage.googleapis.com/tensorflow/keras-applications/vgg19/vgg19_weights_tf_dim_ordering_tf_kernels.h5\n",
      "574717952/574710816 [==============================] - 180s 0us/step\n",
      "574726144/574710816 [==============================] - 180s 0us/step\n",
      "dog\\201030094143-stock-rhodesian-ridgeback-super-tease.jpg =====================>> vizsla (69.96%)\n",
      "dog\\322868_1100-800x825.jpg =====================>> Brittany_spaniel (46.63%)\n",
      "dog\\3408.jpg =====================>> pug (97.05%)\n",
      "dog\\adorable-white-pomeranian-puppy-spitz-921029690-5c8be25d46e0fb000172effe.jpg =====================>> Samoyed (87.96%)\n",
      "dog\\encontro_dog_institute_40130382010.jpeg =====================>> French_bulldog (48.16%)\n",
      "dog\\king-charles-spaniel-resting-head-768.jpg =====================>> Blenheim_spaniel (88.19%)\n",
      "cat\\07CAT-STRIPES-mediumSquareAt3X-v2.jpg =====================>> tiger_cat (72.90%)\n",
      "cat\\1200px-Feral_cat_Virginia_crop.jpg =====================>> tabby (49.71%)\n",
      "cat\\3683.jpg =====================>> tabby (55.46%)\n",
      "cat\\cat-toes-paw-number-paws-tiger-tabby.jpg =====================>> tabby (74.03%)\n",
      "cat\\GettyImages-1175550351.jpg =====================>> schipperke (58.24%)\n"
     ]
    }
   ],
   "source": [
    "from keras.preprocessing.image import load_img, img_to_array\n",
    "from keras.applications.vgg19 import VGG19, preprocess_input, decode_predictions\n",
    "\n",
    "# load the model\n",
    "model = VGG19()\n",
    "\n",
    "for class_ in classes.keys():\n",
    "    for img in classes[class_]:\n",
    "        # load an image from file\n",
    "        image = load_img(img, target_size=(224, 224))\n",
    "        # convert the image pixels to a numpy array\n",
    "        image = img_to_array(image)\n",
    "        # reshape data for the model\n",
    "        image = image.reshape((1, image.shape[0], image.shape[1], image.shape[2]))\n",
    "        # prepare the image for the VGG model\n",
    "        image = preprocess_input(image)\n",
    "        # predict the probability across all output classes\n",
    "        yhat = model.predict(image)\n",
    "        # convert the probabilities to class labels\n",
    "        label = decode_predictions(yhat)\n",
    "        # retrieve the most likely result, e.g. highest probability\n",
    "        label = label[0][0]\n",
    "        # print the classification\n",
    "        print(img,end=\" =====================>> \")\n",
    "        print('%s (%.2f%%)' % (label[1], label[2]*100))"
   ]
  },
  {
   "cell_type": "code",
   "execution_count": 5,
   "metadata": {},
   "outputs": [
    {
     "name": "stdout",
     "output_type": "stream",
     "text": [
      "Downloading data from https://storage.googleapis.com/tensorflow/keras-applications/resnet/resnet101_weights_tf_dim_ordering_tf_kernels.h5\n",
      "179650560/179648224 [==============================] - 53s 0us/step\n",
      "179658752/179648224 [==============================] - 53s 0us/step\n",
      "dog\\201030094143-stock-rhodesian-ridgeback-super-tease.jpg =====================>> Weimaraner (62.66%)\n",
      "dog\\322868_1100-800x825.jpg =====================>> Brittany_spaniel (59.58%)\n",
      "dog\\3408.jpg =====================>> pug (92.97%)\n",
      "dog\\adorable-white-pomeranian-puppy-spitz-921029690-5c8be25d46e0fb000172effe.jpg =====================>> Samoyed (85.99%)\n",
      "dog\\encontro_dog_institute_40130382010.jpeg =====================>> French_bulldog (90.20%)\n",
      "dog\\king-charles-spaniel-resting-head-768.jpg =====================>> Blenheim_spaniel (92.91%)\n",
      "cat\\07CAT-STRIPES-mediumSquareAt3X-v2.jpg =====================>> tiger_cat (85.91%)\n",
      "cat\\1200px-Feral_cat_Virginia_crop.jpg =====================>> lynx (50.59%)\n",
      "cat\\3683.jpg =====================>> tabby (86.03%)\n",
      "cat\\cat-toes-paw-number-paws-tiger-tabby.jpg =====================>> tabby (86.62%)\n",
      "cat\\GettyImages-1175550351.jpg =====================>> Egyptian_cat (48.59%)\n"
     ]
    }
   ],
   "source": [
    "from keras.preprocessing.image import load_img, img_to_array\n",
    "from keras.applications.resnet import ResNet101, preprocess_input, decode_predictions\n",
    "\n",
    "# load the model\n",
    "model = ResNet101()\n",
    "\n",
    "for class_ in classes.keys():\n",
    "    for img in classes[class_]:\n",
    "        # load an image from file\n",
    "        image = load_img(img, target_size=(224, 224))\n",
    "        # convert the image pixels to a numpy array\n",
    "        image = img_to_array(image)\n",
    "        # reshape data for the model\n",
    "        image = image.reshape((1, image.shape[0], image.shape[1], image.shape[2]))\n",
    "        # prepare the image for the VGG model\n",
    "        image = preprocess_input(image)\n",
    "        # predict the probability across all output classes\n",
    "        yhat = model.predict(image)\n",
    "        # convert the probabilities to class labels\n",
    "        label = decode_predictions(yhat)\n",
    "        # retrieve the most likely result, e.g. highest probability\n",
    "        label = label[0][0]\n",
    "        # print the classification\n",
    "        print(img,end=\" =====================>> \")\n",
    "        print('%s (%.2f%%)' % (label[1], label[2]*100))"
   ]
  },
  {
   "cell_type": "code",
   "execution_count": 6,
   "metadata": {},
   "outputs": [
    {
     "name": "stdout",
     "output_type": "stream",
     "text": [
      "Downloading data from https://storage.googleapis.com/tensorflow/keras-applications/resnet/resnet101v2_weights_tf_dim_ordering_tf_kernels.h5\n",
      "179519488/179518384 [==============================] - 63s 0us/step\n",
      "179527680/179518384 [==============================] - 63s 0us/step\n",
      "dog\\201030094143-stock-rhodesian-ridgeback-super-tease.jpg =====================>> vizsla (95.55%)\n",
      "dog\\322868_1100-800x825.jpg =====================>> Brittany_spaniel (98.88%)\n",
      "dog\\3408.jpg =====================>> pug (99.88%)\n",
      "dog\\adorable-white-pomeranian-puppy-spitz-921029690-5c8be25d46e0fb000172effe.jpg =====================>> Samoyed (92.39%)\n",
      "dog\\encontro_dog_institute_40130382010.jpeg =====================>> French_bulldog (82.15%)\n",
      "dog\\king-charles-spaniel-resting-head-768.jpg =====================>> Blenheim_spaniel (99.73%)\n",
      "cat\\07CAT-STRIPES-mediumSquareAt3X-v2.jpg =====================>> tiger_cat (79.91%)\n",
      "cat\\1200px-Feral_cat_Virginia_crop.jpg =====================>> tabby (66.36%)\n",
      "cat\\3683.jpg =====================>> tabby (73.11%)\n",
      "cat\\cat-toes-paw-number-paws-tiger-tabby.jpg =====================>> tabby (74.70%)\n",
      "cat\\GettyImages-1175550351.jpg =====================>> Egyptian_cat (84.51%)\n"
     ]
    }
   ],
   "source": [
    "from keras.preprocessing.image import load_img, img_to_array\n",
    "from keras.applications.resnet_v2 import ResNet101V2, preprocess_input, decode_predictions\n",
    "\n",
    "# load the model\n",
    "model = ResNet101V2()\n",
    "\n",
    "for class_ in classes.keys():\n",
    "    for img in classes[class_]:\n",
    "        # load an image from file\n",
    "        image = load_img(img, target_size=(224, 224))\n",
    "        # convert the image pixels to a numpy array\n",
    "        image = img_to_array(image)\n",
    "        # reshape data for the model\n",
    "        image = image.reshape((1, image.shape[0], image.shape[1], image.shape[2]))\n",
    "        # prepare the image for the VGG model\n",
    "        image = preprocess_input(image)\n",
    "        # predict the probability across all output classes\n",
    "        yhat = model.predict(image)\n",
    "        # convert the probabilities to class labels\n",
    "        label = decode_predictions(yhat)\n",
    "        # retrieve the most likely result, e.g. highest probability\n",
    "        label = label[0][0]\n",
    "        # print the classification\n",
    "        print(img,end=\" =====================>> \")\n",
    "        print('%s (%.2f%%)' % (label[1], label[2]*100))"
   ]
  },
  {
   "cell_type": "code",
   "execution_count": 8,
   "metadata": {},
   "outputs": [
    {
     "name": "stdout",
     "output_type": "stream",
     "text": [
      "dog\\201030094143-stock-rhodesian-ridgeback-super-tease.jpg =====================>> vizsla (50.29%)\n",
      "dog\\322868_1100-800x825.jpg =====================>> golden_retriever (15.83%)\n",
      "dog\\3408.jpg =====================>> pug (85.90%)\n",
      "dog\\adorable-white-pomeranian-puppy-spitz-921029690-5c8be25d46e0fb000172effe.jpg =====================>> Pomeranian (44.72%)\n",
      "dog\\encontro_dog_institute_40130382010.jpeg =====================>> French_bulldog (88.72%)\n",
      "dog\\king-charles-spaniel-resting-head-768.jpg =====================>> Blenheim_spaniel (85.01%)\n",
      "cat\\07CAT-STRIPES-mediumSquareAt3X-v2.jpg =====================>> tiger_cat (63.66%)\n",
      "cat\\1200px-Feral_cat_Virginia_crop.jpg =====================>> tabby (67.98%)\n",
      "cat\\3683.jpg =====================>> tabby (51.25%)\n",
      "cat\\cat-toes-paw-number-paws-tiger-tabby.jpg =====================>> tabby (76.75%)\n",
      "cat\\GettyImages-1175550351.jpg =====================>> Egyptian_cat (45.19%)\n"
     ]
    }
   ],
   "source": [
    "from keras.preprocessing.image import load_img, img_to_array\n",
    "from keras.applications.xception import Xception, preprocess_input, decode_predictions\n",
    "\n",
    "# load the model\n",
    "model = Xception()\n",
    "\n",
    "for class_ in classes.keys():\n",
    "    for img in classes[class_]:\n",
    "        # load an image from file\n",
    "        image = load_img(img, target_size=(299, 299))\n",
    "        # convert the image pixels to a numpy array\n",
    "        image = img_to_array(image)\n",
    "        # reshape data for the model\n",
    "        image = image.reshape((1, image.shape[0], image.shape[1], image.shape[2]))\n",
    "        # prepare the image for the VGG model\n",
    "        image = preprocess_input(image)\n",
    "        # predict the probability across all output classes\n",
    "        yhat = model.predict(image)\n",
    "        # convert the probabilities to class labels\n",
    "        label = decode_predictions(yhat)\n",
    "        # retrieve the most likely result, e.g. highest probability\n",
    "        label = label[0][0]\n",
    "        # print the classification\n",
    "        print(img,end=\" =====================>> \")\n",
    "        print('%s (%.2f%%)' % (label[1], label[2]*100))"
   ]
  }
 ],
 "metadata": {
  "interpreter": {
   "hash": "c07329831e65ccf6201e6c731d584b258e5a47eb14b880d3b7981c10572e274f"
  },
  "kernelspec": {
   "display_name": "Python 3.9.6 64-bit",
   "language": "python",
   "name": "python3"
  },
  "language_info": {
   "codemirror_mode": {
    "name": "ipython",
    "version": 3
   },
   "file_extension": ".py",
   "mimetype": "text/x-python",
   "name": "python",
   "nbconvert_exporter": "python",
   "pygments_lexer": "ipython3",
   "version": "3.9.6"
  },
  "orig_nbformat": 4
 },
 "nbformat": 4,
 "nbformat_minor": 2
}
