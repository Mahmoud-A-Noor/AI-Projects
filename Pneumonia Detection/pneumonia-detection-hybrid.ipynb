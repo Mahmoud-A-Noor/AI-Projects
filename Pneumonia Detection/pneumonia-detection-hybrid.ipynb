{
 "cells": [
  {
   "attachments": {},
   "cell_type": "markdown",
   "id": "54bedbe2",
   "metadata": {},
   "source": [
    "### Data Set\n",
    "https://www.kaggle.com/datasets/paultimothymooney/chest-xray-pneumonia"
   ]
  },
  {
   "cell_type": "markdown",
   "id": "c2520051",
   "metadata": {
    "papermill": {
     "duration": 0.009747,
     "end_time": "2022-12-03T07:35:56.139178",
     "exception": false,
     "start_time": "2022-12-03T07:35:56.129431",
     "status": "completed"
    },
    "tags": []
   },
   "source": [
    "# Data Preprocessing"
   ]
  },
  {
   "cell_type": "code",
   "execution_count": 1,
   "id": "a1b68d4c",
   "metadata": {
    "execution": {
     "iopub.execute_input": "2022-12-03T07:35:56.159400Z",
     "iopub.status.busy": "2022-12-03T07:35:56.158926Z",
     "iopub.status.idle": "2022-12-03T07:36:09.308921Z",
     "shell.execute_reply": "2022-12-03T07:36:09.307046Z"
    },
    "papermill": {
     "duration": 13.16334,
     "end_time": "2022-12-03T07:36:09.312065",
     "exception": false,
     "start_time": "2022-12-03T07:35:56.148725",
     "status": "completed"
    },
    "tags": []
   },
   "outputs": [],
   "source": [
    "import os\n",
    "from distutils.dir_util import copy_tree\n",
    "import tensorflow as tf\n",
    "from keras.preprocessing import image\n",
    "from keras.preprocessing.image import ImageDataGenerator\n",
    "from tensorflow.keras.utils import load_img, img_to_array\n",
    "import matplotlib.pyplot as plt\n",
    "import numpy as np\n",
    "import pandas as pd\n",
    "import seaborn as sns\n",
    "import random\n",
    "import cv2"
   ]
  },
  {
   "cell_type": "code",
   "execution_count": 2,
   "id": "e5fc08dc",
   "metadata": {
    "execution": {
     "iopub.execute_input": "2022-12-03T07:36:09.330792Z",
     "iopub.status.busy": "2022-12-03T07:36:09.330124Z",
     "iopub.status.idle": "2022-12-03T07:36:09.336108Z",
     "shell.execute_reply": "2022-12-03T07:36:09.334269Z"
    },
    "papermill": {
     "duration": 0.01764,
     "end_time": "2022-12-03T07:36:09.338536",
     "exception": false,
     "start_time": "2022-12-03T07:36:09.320896",
     "status": "completed"
    },
    "tags": []
   },
   "outputs": [],
   "source": [
    "IMG_SIZE = 300"
   ]
  },
  {
   "cell_type": "markdown",
   "id": "748af367",
   "metadata": {
    "papermill": {
     "duration": 0.007413,
     "end_time": "2022-12-03T07:36:09.354105",
     "exception": false,
     "start_time": "2022-12-03T07:36:09.346692",
     "status": "completed"
    },
    "tags": []
   },
   "source": [
    "## Prepare Data"
   ]
  },
  {
   "cell_type": "markdown",
   "id": "e7f75f21",
   "metadata": {
    "papermill": {
     "duration": 0.007878,
     "end_time": "2022-12-03T07:36:09.478739",
     "exception": false,
     "start_time": "2022-12-03T07:36:09.470861",
     "status": "completed"
    },
    "tags": []
   },
   "source": [
    "### Prepare Training Data"
   ]
  },
  {
   "cell_type": "code",
   "execution_count": 7,
   "id": "1a78914d",
   "metadata": {
    "execution": {
     "iopub.execute_input": "2022-12-03T07:36:09.495461Z",
     "iopub.status.busy": "2022-12-03T07:36:09.495061Z",
     "iopub.status.idle": "2022-12-03T07:38:04.169410Z",
     "shell.execute_reply": "2022-12-03T07:38:04.167250Z"
    },
    "papermill": {
     "duration": 114.685671,
     "end_time": "2022-12-03T07:38:04.171921",
     "exception": false,
     "start_time": "2022-12-03T07:36:09.486250",
     "status": "completed"
    },
    "tags": []
   },
   "outputs": [],
   "source": [
    "xtrain = []\n",
    "ytrain = []\n",
    "\n",
    "for file_name in os.listdir(\"../input/chest-xray-pneumonia/chest_xray/train/NORMAL\"):\n",
    "#     img = cv2.imread(f\"/kaggle/input/chest-xray-pneumonia/chest_xray/train/NORMAL/{file_name}\")\n",
    "#     img = cv2.resize(img, (IMG_SIZE, IMG_SIZE))\n",
    "#     img = img/255.0\n",
    "#     img = img.reshape(1,IMG_SIZE,IMG_SIZE,3)\n",
    "    img = image.load_img(f\"../input/chest-xray-pneumonia/chest_xray/train/NORMAL/{file_name}\", target_size=(IMG_SIZE, IMG_SIZE))\n",
    "    img = image.img_to_array(img)\n",
    "    img = img/255.0\n",
    "    img = np.expand_dims(img, axis=0)\n",
    "    \n",
    "    xtrain.append(img)\n",
    "    ytrain.append(0)\n",
    "\n",
    "\n",
    "for file_name in os.listdir(\"../input/chest-xray-pneumonia/chest_xray/train/PNEUMONIA\"):\n",
    "    img = image.load_img(f\"../input/chest-xray-pneumonia/chest_xray/train/PNEUMONIA/{file_name}\", target_size=(IMG_SIZE, IMG_SIZE))\n",
    "    img = image.img_to_array(img)\n",
    "    img = img/255.0\n",
    "    img = np.expand_dims(img, axis=0)\n",
    "    \n",
    "    xtrain.append(img)\n",
    "    ytrain.append(1)"
   ]
  },
  {
   "cell_type": "markdown",
   "id": "7c9fc8a6",
   "metadata": {
    "papermill": {
     "duration": 0.007111,
     "end_time": "2022-12-03T07:38:04.186803",
     "exception": false,
     "start_time": "2022-12-03T07:38:04.179692",
     "status": "completed"
    },
    "tags": []
   },
   "source": [
    "### Prepare Testing Data"
   ]
  },
  {
   "cell_type": "code",
   "execution_count": 8,
   "id": "bf8721fa",
   "metadata": {
    "execution": {
     "iopub.execute_input": "2022-12-03T07:38:04.205573Z",
     "iopub.status.busy": "2022-12-03T07:38:04.205023Z",
     "iopub.status.idle": "2022-12-03T07:38:14.208668Z",
     "shell.execute_reply": "2022-12-03T07:38:14.206880Z"
    },
    "papermill": {
     "duration": 10.017203,
     "end_time": "2022-12-03T07:38:14.211550",
     "exception": false,
     "start_time": "2022-12-03T07:38:04.194347",
     "status": "completed"
    },
    "tags": []
   },
   "outputs": [],
   "source": [
    "xtest = []\n",
    "ytest = []\n",
    "\n",
    "for file_name in os.listdir(\"../input/chest-xray-pneumonia/chest_xray/test/NORMAL\"):\n",
    "#     img = cv2.imread(f\"/kaggle/input/chest-xray-pneumonia/chest_xray/test/NORMAL/{file_name}\")\n",
    "#     img = cv2.resize(img, (IMG_SIZE, IMG_SIZE))\n",
    "#     img = img/255.0\n",
    "#     img = img.reshape(1,IMG_SIZE,IMG_SIZE,3)\n",
    "    img = image.load_img(f\"../input/chest-xray-pneumonia/chest_xray/test/NORMAL/{file_name}\", target_size=(IMG_SIZE, IMG_SIZE))\n",
    "    img = image.img_to_array(img)\n",
    "    img = img/255.0\n",
    "    img = np.expand_dims(img, axis=0)\n",
    "    \n",
    "    xtest.append(img)\n",
    "    ytest.append(0)\n",
    "    \n",
    "for file_name in os.listdir(\"../input/chest-xray-pneumonia/chest_xray/test/PNEUMONIA\"):\n",
    "#     img = cv2.imread(f\"/kaggle/input/chest-xray-pneumonia/chest_xray/test/PNEUMONIA/{file_name}\")\n",
    "#     img = cv2.resize(img, (IMG_SIZE, IMG_SIZE))\n",
    "#     img = img/255.0\n",
    "#     img = img.reshape(1,IMG_SIZE,IMG_SIZE,3)\n",
    "    img = image.load_img(f\"../input/chest-xray-pneumonia/chest_xray/test/PNEUMONIA/{file_name}\", target_size=(IMG_SIZE, IMG_SIZE))\n",
    "    img = image.img_to_array(img)\n",
    "    img = img/255.0\n",
    "    img = np.expand_dims(img, axis=0)\n",
    "    \n",
    "    xtest.append(img)\n",
    "    ytest.append(1)"
   ]
  },
  {
   "cell_type": "markdown",
   "id": "4c040d1a",
   "metadata": {
    "papermill": {
     "duration": 0.00903,
     "end_time": "2022-12-03T07:38:14.228456",
     "exception": false,
     "start_time": "2022-12-03T07:38:14.219426",
     "status": "completed"
    },
    "tags": []
   },
   "source": [
    "# Feature Extraction"
   ]
  },
  {
   "cell_type": "code",
   "execution_count": 9,
   "id": "7781e368",
   "metadata": {
    "execution": {
     "iopub.execute_input": "2022-12-03T07:38:14.247150Z",
     "iopub.status.busy": "2022-12-03T07:38:14.246557Z",
     "iopub.status.idle": "2022-12-03T07:38:14.252807Z",
     "shell.execute_reply": "2022-12-03T07:38:14.251697Z"
    },
    "papermill": {
     "duration": 0.018115,
     "end_time": "2022-12-03T07:38:14.255153",
     "exception": false,
     "start_time": "2022-12-03T07:38:14.237038",
     "status": "completed"
    },
    "tags": []
   },
   "outputs": [],
   "source": [
    "from keras.models import Sequential\n",
    "from keras.layers import Conv2D, Conv1D, Dense, Dropout, Flatten, MaxPooling2D, Activation, BatchNormalization, TimeDistributed, AveragePooling2D, LSTM, Reshape\n",
    "from tensorflow.keras import regularizers\n",
    "from tensorflow.keras.utils import plot_model\n",
    "from tensorflow.keras.applications import ResNet152V2, MobileNetV2, DenseNet201, VGG19, DenseNet169, ResNet50\n",
    "from tensorflow.keras.callbacks import ModelCheckpoint, ReduceLROnPlateau"
   ]
  },
  {
   "cell_type": "code",
   "execution_count": 10,
   "id": "bf0c02f6",
   "metadata": {
    "execution": {
     "iopub.execute_input": "2022-12-03T07:38:14.272937Z",
     "iopub.status.busy": "2022-12-03T07:38:14.272330Z",
     "iopub.status.idle": "2022-12-03T07:38:18.669932Z",
     "shell.execute_reply": "2022-12-03T07:38:18.668318Z"
    },
    "papermill": {
     "duration": 4.410076,
     "end_time": "2022-12-03T07:38:18.672721",
     "exception": false,
     "start_time": "2022-12-03T07:38:14.262645",
     "status": "completed"
    },
    "tags": []
   },
   "outputs": [
    {
     "name": "stderr",
     "output_type": "stream",
     "text": [
      "2022-12-03 07:38:14.338744: I tensorflow/core/common_runtime/process_util.cc:146] Creating new thread pool with default inter op setting: 2. Tune using inter_op_parallelism_threads for best performance.\n"
     ]
    },
    {
     "name": "stdout",
     "output_type": "stream",
     "text": [
      "Downloading data from https://storage.googleapis.com/tensorflow/keras-applications/densenet/densenet169_weights_tf_dim_ordering_tf_kernels_notop.h5\n",
      "51879936/51877672 [==============================] - 0s 0us/step\n",
      "51888128/51877672 [==============================] - 0s 0us/step\n"
     ]
    }
   ],
   "source": [
    "vgg_model = DenseNet169(weights=\"imagenet\", include_top=False, input_shape=(IMG_SIZE,IMG_SIZE,3))\n",
    "vgg_model.trainable = False ## Not trainable weights\n",
    "# vgg_model.summary()"
   ]
  },
  {
   "cell_type": "code",
   "execution_count": 11,
   "id": "65eadf81",
   "metadata": {
    "execution": {
     "iopub.execute_input": "2022-12-03T07:38:18.696843Z",
     "iopub.status.busy": "2022-12-03T07:38:18.696516Z",
     "iopub.status.idle": "2022-12-03T08:11:16.992746Z",
     "shell.execute_reply": "2022-12-03T08:11:16.990785Z"
    },
    "papermill": {
     "duration": 1978.311189,
     "end_time": "2022-12-03T08:11:16.995308",
     "exception": false,
     "start_time": "2022-12-03T07:38:18.684119",
     "status": "completed"
    },
    "tags": []
   },
   "outputs": [
    {
     "name": "stderr",
     "output_type": "stream",
     "text": [
      "2022-12-03 07:38:18.797436: I tensorflow/compiler/mlir/mlir_graph_optimization_pass.cc:185] None of the MLIR Optimization Passes are enabled (registered 2)\n"
     ]
    }
   ],
   "source": [
    "xtrain_features = []\n",
    "for i in range(len(xtrain)):\n",
    "    xtrain_features.append(vgg_model.predict(xtrain[0]))\n",
    "    del xtrain[0]\n",
    "    \n",
    "xtrain_features = np.array(xtrain_features)\n",
    "xtrain_features = xtrain_features.reshape(xtrain_features.shape[0], -1)"
   ]
  },
  {
   "cell_type": "code",
   "execution_count": 12,
   "id": "abbf4bee",
   "metadata": {
    "execution": {
     "iopub.execute_input": "2022-12-03T08:11:17.014154Z",
     "iopub.status.busy": "2022-12-03T08:11:17.013544Z",
     "iopub.status.idle": "2022-12-03T08:15:04.447819Z",
     "shell.execute_reply": "2022-12-03T08:15:04.446313Z"
    },
    "papermill": {
     "duration": 227.446995,
     "end_time": "2022-12-03T08:15:04.450525",
     "exception": false,
     "start_time": "2022-12-03T08:11:17.003530",
     "status": "completed"
    },
    "tags": []
   },
   "outputs": [],
   "source": [
    "xtest_features = []\n",
    "for i in range(len(xtest)):\n",
    "    xtest_features.append(vgg_model.predict(xtest[0]))\n",
    "    del xtest[0]\n",
    "    \n",
    "xtest_features = np.array(xtest_features)\n",
    "xtest_features = xtest_features.reshape(xtest_features.shape[0], -1)"
   ]
  },
  {
   "cell_type": "markdown",
   "id": "119949bb",
   "metadata": {
    "papermill": {
     "duration": 0.008071,
     "end_time": "2022-12-03T08:15:04.467023",
     "exception": false,
     "start_time": "2022-12-03T08:15:04.458952",
     "status": "completed"
    },
    "tags": []
   },
   "source": [
    "# Model Creation & Training"
   ]
  },
  {
   "cell_type": "code",
   "execution_count": 13,
   "id": "d405a980",
   "metadata": {
    "execution": {
     "iopub.execute_input": "2022-12-03T08:15:04.485228Z",
     "iopub.status.busy": "2022-12-03T08:15:04.484862Z",
     "iopub.status.idle": "2022-12-03T08:15:04.984167Z",
     "shell.execute_reply": "2022-12-03T08:15:04.982994Z"
    },
    "papermill": {
     "duration": 0.511215,
     "end_time": "2022-12-03T08:15:04.986644",
     "exception": false,
     "start_time": "2022-12-03T08:15:04.475429",
     "status": "completed"
    },
    "tags": []
   },
   "outputs": [],
   "source": [
    "from sklearn.svm import SVC\n",
    "from sklearn.ensemble import RandomForestClassifier\n",
    "from sklearn.tree import DecisionTreeClassifier"
   ]
  },
  {
   "cell_type": "markdown",
   "id": "28eef551",
   "metadata": {
    "papermill": {
     "duration": 0.008001,
     "end_time": "2022-12-03T08:15:05.003047",
     "exception": false,
     "start_time": "2022-12-03T08:15:04.995046",
     "status": "completed"
    },
    "tags": []
   },
   "source": [
    "C=3.5 and gamma=0.000019 (densenet169)<br>\n",
    "C=1.5 and gamma=0.000019 (resnet50)"
   ]
  },
  {
   "cell_type": "code",
   "execution_count": 14,
   "id": "74ba0390",
   "metadata": {
    "execution": {
     "iopub.execute_input": "2022-12-03T08:15:05.022385Z",
     "iopub.status.busy": "2022-12-03T08:15:05.022016Z",
     "iopub.status.idle": "2022-12-03T09:00:50.572876Z",
     "shell.execute_reply": "2022-12-03T09:00:50.572214Z"
    },
    "papermill": {
     "duration": 2745.570965,
     "end_time": "2022-12-03T09:00:50.583122",
     "exception": false,
     "start_time": "2022-12-03T08:15:05.012157",
     "status": "completed"
    },
    "tags": []
   },
   "outputs": [
    {
     "data": {
      "text/plain": [
       "SVC(C=1.5, gamma=1.9e-05, probability=True)"
      ]
     },
     "execution_count": 14,
     "metadata": {},
     "output_type": "execute_result"
    }
   ],
   "source": [
    "model = SVC(C=1.5, gamma=0.000019, probability=True)\n",
    "model.fit(xtrain_features, ytrain)"
   ]
  },
  {
   "cell_type": "code",
   "execution_count": 15,
   "id": "ad39f829",
   "metadata": {
    "execution": {
     "iopub.execute_input": "2022-12-03T09:00:50.602592Z",
     "iopub.status.busy": "2022-12-03T09:00:50.601839Z",
     "iopub.status.idle": "2022-12-03T09:32:57.234978Z",
     "shell.execute_reply": "2022-12-03T09:32:57.233310Z"
    },
    "papermill": {
     "duration": 1926.660984,
     "end_time": "2022-12-03T09:32:57.252297",
     "exception": false,
     "start_time": "2022-12-03T09:00:50.591313",
     "status": "completed"
    },
    "tags": []
   },
   "outputs": [
    {
     "data": {
      "text/plain": [
       "0.999808282208589"
      ]
     },
     "execution_count": 15,
     "metadata": {},
     "output_type": "execute_result"
    }
   ],
   "source": [
    "model.score(xtrain_features, ytrain)"
   ]
  },
  {
   "cell_type": "code",
   "execution_count": 16,
   "id": "240de36f",
   "metadata": {
    "execution": {
     "iopub.execute_input": "2022-12-03T09:32:57.278247Z",
     "iopub.status.busy": "2022-12-03T09:32:57.277735Z",
     "iopub.status.idle": "2022-12-03T09:36:44.219183Z",
     "shell.execute_reply": "2022-12-03T09:36:44.218370Z"
    },
    "papermill": {
     "duration": 226.967662,
     "end_time": "2022-12-03T09:36:44.232351",
     "exception": false,
     "start_time": "2022-12-03T09:32:57.264689",
     "status": "completed"
    },
    "tags": []
   },
   "outputs": [
    {
     "data": {
      "text/plain": [
       "0.8108974358974359"
      ]
     },
     "execution_count": 16,
     "metadata": {},
     "output_type": "execute_result"
    }
   ],
   "source": [
    "model.score(xtest_features, ytest)"
   ]
  },
  {
   "cell_type": "markdown",
   "id": "35d0808d",
   "metadata": {
    "papermill": {
     "duration": 0.010458,
     "end_time": "2022-12-03T09:36:44.255101",
     "exception": false,
     "start_time": "2022-12-03T09:36:44.244643",
     "status": "completed"
    },
    "tags": []
   },
   "source": [
    "# Model Evaluation"
   ]
  },
  {
   "cell_type": "markdown",
   "id": "47f6706b",
   "metadata": {
    "papermill": {
     "duration": 0.011543,
     "end_time": "2022-12-03T09:36:44.277816",
     "exception": false,
     "start_time": "2022-12-03T09:36:44.266273",
     "status": "completed"
    },
    "tags": []
   },
   "source": [
    "## precision vs. recall and ROC"
   ]
  },
  {
   "cell_type": "code",
   "execution_count": 17,
   "id": "82b614d0",
   "metadata": {
    "execution": {
     "iopub.execute_input": "2022-12-03T09:36:44.303195Z",
     "iopub.status.busy": "2022-12-03T09:36:44.302062Z",
     "iopub.status.idle": "2022-12-03T09:36:44.327036Z",
     "shell.execute_reply": "2022-12-03T09:36:44.326243Z"
    },
    "papermill": {
     "duration": 0.040269,
     "end_time": "2022-12-03T09:36:44.329767",
     "exception": false,
     "start_time": "2022-12-03T09:36:44.289498",
     "status": "completed"
    },
    "tags": []
   },
   "outputs": [],
   "source": [
    "from sklearn.metrics import precision_recall_curve, roc_curve, auc, accuracy_score, confusion_matrix, precision_score, recall_score\n",
    "import seaborn as sns\n",
    "import matplotlib.pyplot as plt \n",
    "plt.style.use('fivethirtyeight')\n",
    "%matplotlib inline"
   ]
  },
  {
   "cell_type": "code",
   "execution_count": 18,
   "id": "b6d50994",
   "metadata": {
    "execution": {
     "iopub.execute_input": "2022-12-03T09:36:44.349565Z",
     "iopub.status.busy": "2022-12-03T09:36:44.349056Z",
     "iopub.status.idle": "2022-12-03T09:36:44.357310Z",
     "shell.execute_reply": "2022-12-03T09:36:44.356153Z"
    },
    "papermill": {
     "duration": 0.019771,
     "end_time": "2022-12-03T09:36:44.359158",
     "exception": false,
     "start_time": "2022-12-03T09:36:44.339387",
     "status": "completed"
    },
    "tags": []
   },
   "outputs": [],
   "source": [
    "def plot_precision_recall(precisions, recalls, thresholds):\n",
    "    plt.plot(thresholds, precisions[:-1], 'b--')\n",
    "    plt.plot(thresholds, recalls[:-1], 'g-')\n",
    "    plt.title('Precision vs. Recall')\n",
    "    plt.xlabel('Thresholds')\n",
    "    plt.legend(['Precision', 'Recall'], loc='best')\n",
    "    plt.show()\n",
    "\n",
    "def plot_roc(fpr, tpr):\n",
    "    plt.plot(fpr, tpr)\n",
    "    plt.plot([0, 1], [0, 1], 'k--')\n",
    "    plt.title('FPR (False Positive rate) vs TPR (True Positive Rate)')\n",
    "    plt.xlabel('False Positive Rate')\n",
    "    plt.ylabel('True Positive Rate (Recall)')\n",
    "    plt.show()"
   ]
  },
  {
   "cell_type": "markdown",
   "id": "05857c83",
   "metadata": {
    "papermill": {
     "duration": 0.008741,
     "end_time": "2022-12-03T09:36:44.376771",
     "exception": false,
     "start_time": "2022-12-03T09:36:44.368030",
     "status": "completed"
    },
    "tags": []
   },
   "source": [
    "### Training Evaluation"
   ]
  },
  {
   "cell_type": "code",
   "execution_count": 19,
   "id": "57f2eca4",
   "metadata": {
    "execution": {
     "iopub.execute_input": "2022-12-03T09:36:44.396459Z",
     "iopub.status.busy": "2022-12-03T09:36:44.395279Z",
     "iopub.status.idle": "2022-12-03T10:07:24.320419Z",
     "shell.execute_reply": "2022-12-03T10:07:24.319503Z"
    },
    "papermill": {
     "duration": 1839.951695,
     "end_time": "2022-12-03T10:07:24.337059",
     "exception": false,
     "start_time": "2022-12-03T09:36:44.385364",
     "status": "completed"
    },
    "tags": []
   },
   "outputs": [
    {
     "name": "stdout",
     "output_type": "stream",
     "text": [
      "Training AUC Score = 0.8859887902624425\n"
     ]
    }
   ],
   "source": [
    "pred = model.predict_proba(xtrain_features)\n",
    "pred = np.max(pred, axis=1)\n",
    "precisions, recalls, thresholds = precision_recall_curve(ytrain, pred)\n",
    "fpr, tpr, thresholds2 = roc_curve(ytrain, pred)\n",
    "print(f\"Training AUC Score = {auc(fpr, tpr)}\")"
   ]
  },
  {
   "cell_type": "code",
   "execution_count": 20,
   "id": "62962aa3",
   "metadata": {
    "execution": {
     "iopub.execute_input": "2022-12-03T10:07:24.359619Z",
     "iopub.status.busy": "2022-12-03T10:07:24.359261Z",
     "iopub.status.idle": "2022-12-03T10:07:24.744224Z",
     "shell.execute_reply": "2022-12-03T10:07:24.742951Z"
    },
    "papermill": {
     "duration": 0.398868,
     "end_time": "2022-12-03T10:07:24.746449",
     "exception": false,
     "start_time": "2022-12-03T10:07:24.347581",
     "status": "completed"
    },
    "tags": []
   },
   "outputs": [
    {
     "data": {
      "image/png": "[encoded data removed]",
      "text/plain": [
       "<Figure size 432x288 with 1 Axes>"
      ]
     },
     "metadata": {
      "needs_background": "light"
     },
     "output_type": "display_data"
    },
    {
     "data": {
      "image/png": "[encoded data removed]",
      "text/plain": [
       "<Figure size 432x288 with 1 Axes>"
      ]
     },
     "metadata": {
      "needs_background": "light"
     },
     "output_type": "display_data"
    }
   ],
   "source": [
    "plot_precision_recall(precisions, recalls, thresholds)\n",
    "plot_roc(fpr, tpr)"
   ]
  },
  {
   "cell_type": "code",
   "execution_count": 21,
   "id": "ceb47587",
   "metadata": {
    "execution": {
     "iopub.execute_input": "2022-12-03T10:07:24.766972Z",
     "iopub.status.busy": "2022-12-03T10:07:24.766634Z",
     "iopub.status.idle": "2022-12-03T10:37:29.241964Z",
     "shell.execute_reply": "2022-12-03T10:37:29.241027Z"
    },
    "papermill": {
     "duration": 1804.500658,
     "end_time": "2022-12-03T10:37:29.256056",
     "exception": false,
     "start_time": "2022-12-03T10:07:24.755398",
     "status": "completed"
    },
    "tags": []
   },
   "outputs": [
    {
     "name": "stdout",
     "output_type": "stream",
     "text": [
      "Accuracy on training set: 0.999808282208589\n",
      "Precision on training set: 0.9997420020639834\n",
      "Recall on training set: 1.0\n"
     ]
    }
   ],
   "source": [
    "del pred\n",
    "pred = model.predict(xtrain_features)\n",
    "print('Accuracy on training set:', accuracy_score(ytrain, pred))\n",
    "print('Precision on training set:', precision_score(ytrain, pred))\n",
    "print('Recall on training set:', recall_score(ytrain, pred))"
   ]
  },
  {
   "cell_type": "code",
   "execution_count": 22,
   "id": "5423ab37",
   "metadata": {
    "execution": {
     "iopub.execute_input": "2022-12-03T10:37:29.281631Z",
     "iopub.status.busy": "2022-12-03T10:37:29.281245Z",
     "iopub.status.idle": "2022-12-03T10:37:29.509566Z",
     "shell.execute_reply": "2022-12-03T10:37:29.508802Z"
    },
    "papermill": {
     "duration": 0.243115,
     "end_time": "2022-12-03T10:37:29.511290",
     "exception": false,
     "start_time": "2022-12-03T10:37:29.268175",
     "status": "completed"
    },
    "tags": []
   },
   "outputs": [
    {
     "data": {
      "text/plain": [
       "[Text(0, 0.5, 'Normal'), Text(0, 1.5, 'Pneumonia')]"
      ]
     },
     "execution_count": 22,
     "metadata": {},
     "output_type": "execute_result"
    },
    {
     "data": {
      "image/png": "[encoded data removed]",
      "text/plain": [
       "<Figure size 432x288 with 2 Axes>"
      ]
     },
     "metadata": {
      "needs_background": "light"
     },
     "output_type": "display_data"
    }
   ],
   "source": [
    "matrix = confusion_matrix(ytrain, pred)\n",
    "ax= plt.subplot()\n",
    "sns.heatmap(matrix, annot=True, ax = ax)\n",
    "\n",
    "# labels, title and ticks\n",
    "ax.set_xlabel('Predicted Labels', size=20)\n",
    "ax.set_ylabel('True Labels', size=20)\n",
    "ax.set_title('Confusion Matrix', size=20) \n",
    "ax.xaxis.set_ticklabels([\"Normal\",\"Pneumonia\"])\n",
    "ax.yaxis.set_ticklabels([\"Normal\",\"Pneumonia\"])"
   ]
  },
  {
   "cell_type": "markdown",
   "id": "f8f1982a",
   "metadata": {
    "papermill": {
     "duration": 0.008695,
     "end_time": "2022-12-03T10:37:29.529152",
     "exception": false,
     "start_time": "2022-12-03T10:37:29.520457",
     "status": "completed"
    },
    "tags": []
   },
   "source": [
    "### Testing Evaluation"
   ]
  },
  {
   "cell_type": "code",
   "execution_count": 23,
   "id": "7365624c",
   "metadata": {
    "execution": {
     "iopub.execute_input": "2022-12-03T10:37:29.549726Z",
     "iopub.status.busy": "2022-12-03T10:37:29.549164Z",
     "iopub.status.idle": "2022-12-03T10:41:03.999546Z",
     "shell.execute_reply": "2022-12-03T10:41:03.998759Z"
    },
    "papermill": {
     "duration": 214.476349,
     "end_time": "2022-12-03T10:41:04.014708",
     "exception": false,
     "start_time": "2022-12-03T10:37:29.538359",
     "status": "completed"
    },
    "tags": []
   },
   "outputs": [
    {
     "name": "stdout",
     "output_type": "stream",
     "text": [
      "Testing AUC Score = 0.9350317773394696\n"
     ]
    }
   ],
   "source": [
    "pred = model.predict_proba(xtest_features)\n",
    "pred = np.max(pred, axis=1)\n",
    "precisions, recalls, thresholds = precision_recall_curve(ytest, pred)\n",
    "fpr, tpr, thresholds2 = roc_curve(ytest, pred)\n",
    "print(f\"Testing AUC Score = {auc(fpr, tpr)}\")"
   ]
  },
  {
   "cell_type": "code",
   "execution_count": 24,
   "id": "0a83a708",
   "metadata": {
    "execution": {
     "iopub.execute_input": "2022-12-03T10:41:04.043646Z",
     "iopub.status.busy": "2022-12-03T10:41:04.043253Z",
     "iopub.status.idle": "2022-12-03T10:41:04.379348Z",
     "shell.execute_reply": "2022-12-03T10:41:04.377691Z"
    },
    "papermill": {
     "duration": 0.355978,
     "end_time": "2022-12-03T10:41:04.384025",
     "exception": false,
     "start_time": "2022-12-03T10:41:04.028047",
     "status": "completed"
    },
    "tags": []
   },
   "outputs": [
    {
     "data": {
      "image/png": "[encoded data removed]",
      "text/plain": [
       "<Figure size 432x288 with 1 Axes>"
      ]
     },
     "metadata": {
      "needs_background": "light"
     },
     "output_type": "display_data"
    },
    {
     "data": {
      "image/png": "[encoded data removed]",
      "text/plain": [
       "<Figure size 432x288 with 1 Axes>"
      ]
     },
     "metadata": {
      "needs_background": "light"
     },
     "output_type": "display_data"
    }
   ],
   "source": [
    "plot_precision_recall(precisions, recalls, thresholds)\n",
    "plot_roc(fpr, tpr)"
   ]
  },
  {
   "cell_type": "code",
   "execution_count": 25,
   "id": "42ca302d",
   "metadata": {
    "execution": {
     "iopub.execute_input": "2022-12-03T10:41:04.412634Z",
     "iopub.status.busy": "2022-12-03T10:41:04.412315Z",
     "iopub.status.idle": "2022-12-03T10:44:39.549018Z",
     "shell.execute_reply": "2022-12-03T10:44:39.548239Z"
    },
    "papermill": {
     "duration": 215.168351,
     "end_time": "2022-12-03T10:44:39.565969",
     "exception": false,
     "start_time": "2022-12-03T10:41:04.397618",
     "status": "completed"
    },
    "tags": []
   },
   "outputs": [
    {
     "name": "stdout",
     "output_type": "stream",
     "text": [
      "Accuracy on testing set: 0.8108974358974359\n",
      "Precision on testing set: 0.7677165354330708\n",
      "Recall on testing set: 1.0\n"
     ]
    }
   ],
   "source": [
    "del pred\n",
    "pred = model.predict(xtest_features)\n",
    "print('Accuracy on testing set:', accuracy_score(ytest, pred))\n",
    "print('Precision on testing set:', precision_score(ytest, pred))\n",
    "print('Recall on testing set:', recall_score(ytest, pred))"
   ]
  },
  {
   "cell_type": "code",
   "execution_count": 26,
   "id": "55f5ecc9",
   "metadata": {
    "execution": {
     "iopub.execute_input": "2022-12-03T10:44:39.596840Z",
     "iopub.status.busy": "2022-12-03T10:44:39.596431Z",
     "iopub.status.idle": "2022-12-03T10:44:39.818964Z",
     "shell.execute_reply": "2022-12-03T10:44:39.818244Z"
    },
    "papermill": {
     "duration": 0.241003,
     "end_time": "2022-12-03T10:44:39.821335",
     "exception": false,
     "start_time": "2022-12-03T10:44:39.580332",
     "status": "completed"
    },
    "tags": []
   },
   "outputs": [
    {
     "data": {
      "text/plain": [
       "[Text(0, 0.5, 'Normal'), Text(0, 1.5, 'Pneumonia')]"
      ]
     },
     "execution_count": 26,
     "metadata": {},
     "output_type": "execute_result"
    },
    {
     "data": {
      "image/png": "[encoded data removed]",
      "text/plain": [
       "<Figure size 432x288 with 2 Axes>"
      ]
     },
     "metadata": {
      "needs_background": "light"
     },
     "output_type": "display_data"
    }
   ],
   "source": [
    "matrix = confusion_matrix(ytest, pred)\n",
    "ax= plt.subplot()\n",
    "sns.heatmap(matrix, annot=True, ax = ax)\n",
    "\n",
    "# labels, title and ticks\n",
    "ax.set_xlabel('Predicted Labels', size=20)\n",
    "ax.set_ylabel('True Labels', size=20)\n",
    "ax.set_title('Confusion Matrix', size=20)\n",
    "ax.xaxis.set_ticklabels([\"Normal\",\"Pneumonia\"])\n",
    "ax.yaxis.set_ticklabels([\"Normal\",\"Pneumonia\"])"
   ]
  },
  {
   "cell_type": "markdown",
   "id": "9440c887",
   "metadata": {
    "papermill": {
     "duration": 0.010698,
     "end_time": "2022-12-03T10:44:39.843413",
     "exception": false,
     "start_time": "2022-12-03T10:44:39.832715",
     "status": "completed"
    },
    "tags": []
   },
   "source": [
    "## Save Model"
   ]
  },
  {
   "cell_type": "code",
   "execution_count": null,
   "id": "a4572c45",
   "metadata": {},
   "outputs": [],
   "source": [
    "import pickle\n",
    "pickle.dump(\"XRAY Model.pkl\")"
   ]
  }
 ],
 "metadata": {
  "kernelspec": {
   "display_name": "Python 3",
   "language": "python",
   "name": "python3"
  },
  "language_info": {
   "codemirror_mode": {
    "name": "ipython",
    "version": 3
   },
   "file_extension": ".py",
   "mimetype": "text/x-python",
   "name": "python",
   "nbconvert_exporter": "python",
   "pygments_lexer": "ipython3",
   "version": "3.7.12"
  },
  "papermill": {
   "default_parameters": {},
   "duration": 11338.914264,
   "end_time": "2022-12-03T10:44:43.632883",
   "environment_variables": {},
   "exception": true,
   "input_path": "__notebook__.ipynb",
   "output_path": "__notebook__.ipynb",
   "parameters": {},
   "start_time": "2022-12-03T07:35:44.718619",
   "version": "2.3.4"
  }
 },
 "nbformat": 4,
 "nbformat_minor": 5
}
